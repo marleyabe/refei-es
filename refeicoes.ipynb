{
 "cells": [
  {
   "cell_type": "markdown",
   "metadata": {},
   "source": [
    "# Planejar Refeições com base em uma quantidade de calorias"
   ]
  },
  {
   "cell_type": "code",
   "execution_count": 3,
   "metadata": {},
   "outputs": [],
   "source": [
    "# imports\n",
    "import csv\n",
    "import pandas as pd\n",
    "import pandasql as ps"
   ]
  },
  {
   "cell_type": "markdown",
   "metadata": {},
   "source": [
    "## Ler e transformar os valores necessários para o programa"
   ]
  },
  {
   "cell_type": "code",
   "execution_count": 4,
   "metadata": {},
   "outputs": [
    {
     "name": "stdout",
     "output_type": "stream",
     "text": [
      "A quantidade de calorias foi lida com sucesso\n"
     ]
    }
   ],
   "source": [
    "# receber a informção da quantidade de calorias e transformar em int\n",
    "calories = input(\"Digite a quantidade de calorias\")\n",
    "try: \n",
    "    calories = int(calories)\n",
    "    print(\"A quantidade de calorias foi lida com sucesso\")\n",
    "except:\n",
    "    print(\"O valor que você digitou não pode ser lido, tente novamente\")"
   ]
  },
  {
   "cell_type": "code",
   "execution_count": 5,
   "metadata": {},
   "outputs": [
    {
     "name": "stdout",
     "output_type": "stream",
     "text": [
      "225.0 262.5 116.66666666666667\n"
     ]
    }
   ],
   "source": [
    "# Definindo a quantidade de macro nutriente com base na quantidade de calorias\n",
    "\n",
    "protein = (calories*.30)/4\n",
    "carbohydrate = (calories*.35)/4\n",
    "lipid = (calories*.35)/9\n",
    "\n",
    "print(protein, carbohydrate, lipid)"
   ]
  },
  {
   "cell_type": "code",
   "execution_count": 6,
   "metadata": {},
   "outputs": [],
   "source": [
    "# Transformar o arquivo csv e um data frame para fazer requisições SQL\n",
    "taco_table = pd.read_csv('TACO_formatted.csv')"
   ]
  },
  {
   "cell_type": "markdown",
   "metadata": {},
   "source": [
    "## Requisições na tabela taco"
   ]
  },
  {
   "cell_type": "code",
   "execution_count": 7,
   "metadata": {},
   "outputs": [],
   "source": [
    "protein_df = ps.sqldf(\"\"\"\n",
    "SELECT CAST(protein_g AS FLOAT), id\n",
    "FROM taco_table\n",
    "WHERE ((protein_g != \"Tr\" and protein_g !=  \"NA\"  and protein_g !=  \"*\"))\n",
    "ORDER BY CAST(protein_g AS FLOAT) DESC\n",
    "LIMIT 100\"\"\")\n",
    "\n",
    "carbohydrate_df = ps.sqldf(\"\"\"\n",
    "SELECT CAST(carbohydrate_g AS FLOAT), id\n",
    "FROM taco_table\n",
    "WHERE ((carbohydrate_g !=  \"NA\"  and carbohydrate_g !=  \"*\") and (category != \"Produtos açucarados\") and (category != \"Bebidas (alcoólicas e não alcoólicas)\"))\n",
    "ORDER BY CAST(carbohydrate_g AS FLOAT) DESC\n",
    "LIMIT 100\"\"\")\n",
    "\n",
    "lipid_df = ps.sqldf(\"\"\"\n",
    "SELECT CAST(lipid_g AS FLOAT), id\n",
    "FROM taco_table\n",
    "WHERE ((lipid_g !=  \"NA\"  and lipid_g !=  \"*\") and (category != \"Produtos açucarados\") and (category != \"Bebidas (alcoólicas e não alcoólicas)\"))\n",
    "ORDER BY CAST(lipid_g AS FLOAT) DESC\n",
    "LIMIT 100\"\"\")"
   ]
  },
  {
   "cell_type": "code",
   "execution_count": 9,
   "metadata": {},
   "outputs": [
    {
     "data": {
      "text/html": [
       "<div>\n",
       "<style scoped>\n",
       "    .dataframe tbody tr th:only-of-type {\n",
       "        vertical-align: middle;\n",
       "    }\n",
       "\n",
       "    .dataframe tbody tr th {\n",
       "        vertical-align: top;\n",
       "    }\n",
       "\n",
       "    .dataframe thead th {\n",
       "        text-align: right;\n",
       "    }\n",
       "</style>\n",
       "<table border=\"1\" class=\"dataframe\">\n",
       "  <thead>\n",
       "    <tr style=\"text-align: right;\">\n",
       "      <th></th>\n",
       "      <th>description</th>\n",
       "      <th>category</th>\n",
       "      <th>energy_kcal</th>\n",
       "      <th>carbohydrate_g</th>\n",
       "      <th>protein_g</th>\n",
       "      <th>lipid_g</th>\n",
       "      <th>fiber_g</th>\n",
       "    </tr>\n",
       "  </thead>\n",
       "  <tbody>\n",
       "    <tr>\n",
       "      <th>0</th>\n",
       "      <td>Brócolis, cozido</td>\n",
       "      <td>Verduras, hortaliças e derivados</td>\n",
       "      <td>24.6361631113688</td>\n",
       "      <td>4.36666666666666</td>\n",
       "      <td>2.13333333333333</td>\n",
       "      <td>0.459</td>\n",
       "      <td>3.41666666666667</td>\n",
       "    </tr>\n",
       "  </tbody>\n",
       "</table>\n",
       "</div>"
      ],
      "text/plain": [
       "        description                          category       energy_kcal  \\\n",
       "0  Brócolis, cozido  Verduras, hortaliças e derivados  24.6361631113688   \n",
       "\n",
       "     carbohydrate_g         protein_g lipid_g           fiber_g  \n",
       "0  4.36666666666666  2.13333333333333   0.459  3.41666666666667  "
      ]
     },
     "execution_count": 9,
     "metadata": {},
     "output_type": "execute_result"
    }
   ],
   "source": [
    "def get_by_id(id):\n",
    "    return ps.sqldf(f\"\"\"\n",
    "        SELECT description, category, energy_kcal, carbohydrate_g, protein_g, lipid_g, fiber_g\n",
    "        FROM taco_table\n",
    "        where (id == {id})\n",
    "        \"\"\")\n",
    "\n",
    "get_by_id(100)"
   ]
  },
  {
   "cell_type": "code",
   "execution_count": null,
   "metadata": {},
   "outputs": [],
   "source": [
    "#Escolher de forma aleátoria uma fonte de proteína, ler outros dois macros nutreiente e adequar\n",
    "\n"
   ]
  }
 ],
 "metadata": {
  "kernelspec": {
   "display_name": "Python 3.10.0 64-bit",
   "language": "python",
   "name": "python3"
  },
  "language_info": {
   "codemirror_mode": {
    "name": "ipython",
    "version": 3
   },
   "file_extension": ".py",
   "mimetype": "text/x-python",
   "name": "python",
   "nbconvert_exporter": "python",
   "pygments_lexer": "ipython3",
   "version": "3.10.0"
  },
  "orig_nbformat": 4,
  "vscode": {
   "interpreter": {
    "hash": "84ecf9db9339266b9afab478b93bed020609fd167c0b63b0a73879cd02697de8"
   }
  }
 },
 "nbformat": 4,
 "nbformat_minor": 2
}
